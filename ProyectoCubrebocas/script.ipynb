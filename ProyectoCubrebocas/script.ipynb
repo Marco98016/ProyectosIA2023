{
 "cells": [
  {
   "cell_type": "code",
   "execution_count": 3,
   "metadata": {},
   "outputs": [],
   "source": [
    "import cv2 as cv\n",
    "import numpy as np\n",
    "\n",
    "cap = cv.VideoCapture(0)\n",
    "i = 0\n",
    "\n",
    "while True:\n",
    "    i = i + 1\n",
    "\n",
    "    ret, frame = cap.read()\n",
    "    if ret == False: break\n",
    "\n",
    "    cv.rectangle(frame, (190, 80), (450, 398), (255,0,0), 2)\n",
    "\n",
    "    frame2 = frame[80:398, 190:450]\n",
    "\n",
    "    cv.imshow(\"frame\", frame)\n",
    "\n",
    "    cv.imwrite(f'C:\\\\Users\\\\mapf_\\\\Documents\\\\fotos\\\\img{i}.jpg', frame2)\n",
    "\n",
    "\n",
    "    k = cv.waitKey(1)\n",
    "    if k == 27:\n",
    "        break\n",
    "\n",
    "cap.release()\n",
    "cv.destroyAllWindows()"
   ]
  },
  {
   "cell_type": "code",
   "execution_count": 35,
   "metadata": {},
   "outputs": [],
   "source": [
    "import cv2 as cv\n",
    "\n",
    "cap = cv.VideoCapture(0)\n",
    "\n",
    "rostro = cv.CascadeClassifier('Dataset/classifier/cascade.xml')\n",
    "\n",
    "while True:\n",
    "    ret, frame = cap.read()\n",
    "    gray = cv.cvtColor(frame, cv.COLOR_BGR2GRAY)\n",
    "    \n",
    "    rostros = rostro.detectMultiScale(gray, \n",
    "    scaleFactor = 1.3, \n",
    "    minNeighbors = 120,\n",
    "    minSize = (70, 78))\n",
    "\n",
    "    for(x, y, w, h) in rostros:\n",
    "        cv.rectangle(frame, (x,y), (x+w, y+h), (0, 255, 0), 2)\n",
    "        cv.putText(frame, 'Persona con cubrebocas', (x,y-10), 2, 0.7, (0, 255, 0), 2, cv.LINE_AA)\n",
    "\n",
    "    cv.imshow('frame', frame)\n",
    "\n",
    "    k = cv.waitKey(1)\n",
    "    if k == 27:\n",
    "        break\n",
    "\n",
    "cap.release()\n",
    "cv.destroyAllWindows()"
   ]
  }
 ],
 "metadata": {
  "kernelspec": {
   "display_name": "Python 3",
   "language": "python",
   "name": "python3"
  },
  "language_info": {
   "codemirror_mode": {
    "name": "ipython",
    "version": 3
   },
   "file_extension": ".py",
   "mimetype": "text/x-python",
   "name": "python",
   "nbconvert_exporter": "python",
   "pygments_lexer": "ipython3",
   "version": "3.11.5"
  }
 },
 "nbformat": 4,
 "nbformat_minor": 2
}
